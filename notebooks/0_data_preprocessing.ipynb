{
 "cells": [
  {
   "cell_type": "code",
   "execution_count": 164,
   "metadata": {},
   "outputs": [],
   "source": [
    "import pandas as pd\n",
    "import os"
   ]
  },
  {
   "cell_type": "code",
   "execution_count": 165,
   "metadata": {},
   "outputs": [],
   "source": [
    "os.chdir('/Users/jhbyun/Documents/685-Pr/ovarian-cancer-detection') #change directory"
   ]
  },
  {
   "attachments": {},
   "cell_type": "markdown",
   "metadata": {},
   "source": [
    "### 1. Import data"
   ]
  },
  {
   "cell_type": "code",
   "execution_count": 166,
   "metadata": {},
   "outputs": [
    {
     "name": "stdout",
     "output_type": "stream",
     "text": [
      "(199, 30)\n",
      "(252, 30)\n",
      "(199, 30)\n",
      "(252, 30)\n"
     ]
    }
   ],
   "source": [
    "dwt4 = pd.read_csv(os.path.join(os.getcwd(), 'data/slope_chosenlevels_DWT_4302.csv'))\n",
    "dwt8 = pd.read_csv(os.path.join(os.getcwd(), 'data/slope_chosenlevels_DWT_8702.csv'))\n",
    "\n",
    "wp4 = pd.read_csv(os.path.join(os.getcwd(), 'data/slope_chosenlevels_WPD_Wang_4302.csv'))\n",
    "wp8 = pd.read_csv(os.path.join(os.getcwd(), 'data/slope_chosenlevels_WPD_Wang_8702.csv'))\n",
    "\n",
    "print(dwt4.shape)\n",
    "print(dwt8.shape)\n",
    "\n",
    "print(wp4.shape)\n",
    "print(wp8.shape)"
   ]
  },
  {
   "attachments": {},
   "cell_type": "markdown",
   "metadata": {},
   "source": [
    "### 2. Label columns"
   ]
  },
  {
   "cell_type": "code",
   "execution_count": 167,
   "metadata": {},
   "outputs": [
    {
     "name": "stdout",
     "output_type": "stream",
     "text": [
      "['slope_1', 'slope_2', 'slope_3', 'slope_4', 'slope_5', 'slope_6', 'slope_7', 'slope_8', 'slope_9', 'slope_10', 'slope_11', 'slope_12', 'slope_13', 'slope_14', 'slope_15', 'slope_16', 'slope_17', 'slope_18', 'slope_19', 'slope_20', 'slope_21', 'slope_22', 'slope_23', 'slope_24', 'slope_25', 'slope_26', 'slope_27', 'slope_28', 'slope_29', 'state']\n"
     ]
    }
   ],
   "source": [
    "col_names = [] #initialize empty list\n",
    "\n",
    "for index, value in enumerate(dwt4.columns): #loop through number of columns in df\n",
    "    col_name = \"slope_\" + str(index+1) #concat string with index\n",
    "    col_names.append(col_name) #add to list\n",
    "col_names.pop() #remove last element\n",
    "col_names.append(\"state\")\n",
    "\n",
    "print(col_names)\n",
    "\n",
    "dwt4.columns = col_names #set column names to slope_1, slope_2, ..., slope_29, state\n",
    "dwt8.columns = col_names \n",
    "\n",
    "wp4.columns = col_names\n",
    "wp8.columns = col_names"
   ]
  },
  {
   "cell_type": "code",
   "execution_count": 168,
   "metadata": {},
   "outputs": [
    {
     "name": "stdout",
     "output_type": "stream",
     "text": [
      "Stored 'dwt4' (DataFrame)\n",
      "Stored 'dwt8' (DataFrame)\n",
      "Stored 'wp4' (DataFrame)\n",
      "Stored 'wp8' (DataFrame)\n"
     ]
    }
   ],
   "source": [
    "%store dwt4\n",
    "%store dwt8\n",
    "%store wp4\n",
    "%store wp8"
   ]
  },
  {
   "attachments": {},
   "cell_type": "markdown",
   "metadata": {},
   "source": [
    "### 3a. Fisher's criterion, dwt4"
   ]
  },
  {
   "cell_type": "code",
   "execution_count": 169,
   "metadata": {},
   "outputs": [
    {
     "data": {
      "text/plain": [
       "\" \\n#sample of data to test melt function\\nsamp = dwt4.iloc[95:105, :] #10 rows with both cases and controls\\nsamp = samp[['slope_1', 'slope_2', 'slope_3', 'state']] #subset 3 features only for testing\\nsamp = samp.reset_index(drop=True) \\nsamp\\n\\n#pivot longer w/ melt function (https://pandas.pydata.org/docs/reference/api/pandas.melt.html#pandas.melt)\\n#results in 30 rows with each combination of state & slope \\nsamp_long = pd.melt(samp, id_vars=['state'], value_vars=['slope_1', 'slope_2', 'slope_3', 'state'])\\nsamp_long \\n\\nsamp_long.groupby(['state', 'variable']).mean()\\n\\n#validate with manual slicing\\nsamp_0 = samp[samp.state == 0]\\nsamp_1 = samp[samp.state == 1]\\n\\nprint(samp_0)\\nprint(samp_1)\\n\\nprint(samp_0.mean(axis=0))\\nprint(samp_1.mean(axis=0)) \\n\\n\""
      ]
     },
     "execution_count": 169,
     "metadata": {},
     "output_type": "execute_result"
    }
   ],
   "source": [
    "\"\"\" \n",
    "#sample of data to test melt function\n",
    "samp = dwt4.iloc[95:105, :] #10 rows with both cases and controls\n",
    "samp = samp[['slope_1', 'slope_2', 'slope_3', 'state']] #subset 3 features only for testing\n",
    "samp = samp.reset_index(drop=True) \n",
    "samp\n",
    "\n",
    "#pivot longer w/ melt function (https://pandas.pydata.org/docs/reference/api/pandas.melt.html#pandas.melt)\n",
    "#results in 30 rows with each combination of state & slope \n",
    "samp_long = pd.melt(samp, id_vars=['state'], value_vars=['slope_1', 'slope_2', 'slope_3', 'state'])\n",
    "samp_long \n",
    "\n",
    "samp_long.groupby(['state', 'variable']).mean()\n",
    "\n",
    "#validate with manual slicing\n",
    "samp_0 = samp[samp.state == 0]\n",
    "samp_1 = samp[samp.state == 1]\n",
    "\n",
    "print(samp_0)\n",
    "print(samp_1)\n",
    "\n",
    "print(samp_0.mean(axis=0))\n",
    "print(samp_1.mean(axis=0)) \n",
    "\n",
    "\"\"\""
   ]
  },
  {
   "cell_type": "code",
   "execution_count": 170,
   "metadata": {},
   "outputs": [
    {
     "data": {
      "text/html": [
       "<div>\n",
       "<style scoped>\n",
       "    .dataframe tbody tr th:only-of-type {\n",
       "        vertical-align: middle;\n",
       "    }\n",
       "\n",
       "    .dataframe tbody tr th {\n",
       "        vertical-align: top;\n",
       "    }\n",
       "\n",
       "    .dataframe thead th {\n",
       "        text-align: right;\n",
       "    }\n",
       "</style>\n",
       "<table border=\"1\" class=\"dataframe\">\n",
       "  <thead>\n",
       "    <tr style=\"text-align: right;\">\n",
       "      <th></th>\n",
       "      <th>mean_0</th>\n",
       "      <th>mean_1</th>\n",
       "      <th>stdev_0</th>\n",
       "      <th>stdev_1</th>\n",
       "    </tr>\n",
       "    <tr>\n",
       "      <th>slope</th>\n",
       "      <th></th>\n",
       "      <th></th>\n",
       "      <th></th>\n",
       "      <th></th>\n",
       "    </tr>\n",
       "  </thead>\n",
       "  <tbody>\n",
       "    <tr>\n",
       "      <th>slope_1</th>\n",
       "      <td>-1.305751</td>\n",
       "      <td>-1.279610</td>\n",
       "      <td>0.111149</td>\n",
       "      <td>0.119663</td>\n",
       "    </tr>\n",
       "    <tr>\n",
       "      <th>slope_10</th>\n",
       "      <td>-1.839212</td>\n",
       "      <td>-1.479329</td>\n",
       "      <td>0.478302</td>\n",
       "      <td>0.377668</td>\n",
       "    </tr>\n",
       "    <tr>\n",
       "      <th>slope_11</th>\n",
       "      <td>-1.609969</td>\n",
       "      <td>-1.626537</td>\n",
       "      <td>0.440791</td>\n",
       "      <td>0.361923</td>\n",
       "    </tr>\n",
       "    <tr>\n",
       "      <th>slope_12</th>\n",
       "      <td>-1.775380</td>\n",
       "      <td>-1.754304</td>\n",
       "      <td>0.306839</td>\n",
       "      <td>0.268641</td>\n",
       "    </tr>\n",
       "    <tr>\n",
       "      <th>slope_13</th>\n",
       "      <td>-2.528880</td>\n",
       "      <td>-2.540485</td>\n",
       "      <td>0.144357</td>\n",
       "      <td>0.152308</td>\n",
       "    </tr>\n",
       "  </tbody>\n",
       "</table>\n",
       "</div>"
      ],
      "text/plain": [
       "            mean_0    mean_1   stdev_0   stdev_1\n",
       "slope                                           \n",
       "slope_1  -1.305751 -1.279610  0.111149  0.119663\n",
       "slope_10 -1.839212 -1.479329  0.478302  0.377668\n",
       "slope_11 -1.609969 -1.626537  0.440791  0.361923\n",
       "slope_12 -1.775380 -1.754304  0.306839  0.268641\n",
       "slope_13 -2.528880 -2.540485  0.144357  0.152308"
      ]
     },
     "execution_count": 170,
     "metadata": {},
     "output_type": "execute_result"
    }
   ],
   "source": [
    "dwt4_long = pd.melt(dwt4, id_vars=['state'], value_vars=col_names)\n",
    "\n",
    "dwt4_mean = dwt4_long.groupby(['state', 'variable'], as_index=False).mean() #mean for each window\n",
    "dwt4_stdev = dwt4_long.groupby(['state', 'variable'], as_index=False).std() #stdev for each window\n",
    "\n",
    "dwt4_summary = pd.merge(dwt4_mean, dwt4_stdev, how='inner', on=['state', 'variable']) #join mean and stdev\n",
    "dwt4_summary.columns = ['state', 'slope', 'mean', 'stdev'] #rename columns\n",
    "\n",
    "dwt4_summary = pd.pivot(dwt4_summary, columns='state', index='slope', values=['mean', 'stdev']) #pivot wider on state\n",
    "dwt4_summary.columns = ['mean_0', 'mean_1', 'stdev_0', 'stdev_1'] #0 for controls, 1 for cases\n",
    "dwt4_summary.head()"
   ]
  },
  {
   "cell_type": "code",
   "execution_count": 171,
   "metadata": {},
   "outputs": [
    {
     "data": {
      "text/html": [
       "<div>\n",
       "<style scoped>\n",
       "    .dataframe tbody tr th:only-of-type {\n",
       "        vertical-align: middle;\n",
       "    }\n",
       "\n",
       "    .dataframe tbody tr th {\n",
       "        vertical-align: top;\n",
       "    }\n",
       "\n",
       "    .dataframe thead th {\n",
       "        text-align: right;\n",
       "    }\n",
       "</style>\n",
       "<table border=\"1\" class=\"dataframe\">\n",
       "  <thead>\n",
       "    <tr style=\"text-align: right;\">\n",
       "      <th></th>\n",
       "      <th>slope</th>\n",
       "      <th>mean_0</th>\n",
       "      <th>mean_1</th>\n",
       "      <th>stdev_0</th>\n",
       "      <th>stdev_1</th>\n",
       "      <th>fishers</th>\n",
       "    </tr>\n",
       "  </thead>\n",
       "  <tbody>\n",
       "    <tr>\n",
       "      <th>0</th>\n",
       "      <td>slope_9</td>\n",
       "      <td>-1.880712</td>\n",
       "      <td>-1.518439</td>\n",
       "      <td>0.283776</td>\n",
       "      <td>0.242120</td>\n",
       "      <td>0.943158</td>\n",
       "    </tr>\n",
       "    <tr>\n",
       "      <th>1</th>\n",
       "      <td>slope_17</td>\n",
       "      <td>-2.435476</td>\n",
       "      <td>-1.967143</td>\n",
       "      <td>0.374610</td>\n",
       "      <td>0.572371</td>\n",
       "      <td>0.468725</td>\n",
       "    </tr>\n",
       "    <tr>\n",
       "      <th>2</th>\n",
       "      <td>slope_10</td>\n",
       "      <td>-1.839212</td>\n",
       "      <td>-1.479329</td>\n",
       "      <td>0.478302</td>\n",
       "      <td>0.377668</td>\n",
       "      <td>0.348718</td>\n",
       "    </tr>\n",
       "    <tr>\n",
       "      <th>3</th>\n",
       "      <td>slope_3</td>\n",
       "      <td>-0.865893</td>\n",
       "      <td>-1.020657</td>\n",
       "      <td>0.187331</td>\n",
       "      <td>0.187557</td>\n",
       "      <td>0.340856</td>\n",
       "    </tr>\n",
       "    <tr>\n",
       "      <th>4</th>\n",
       "      <td>slope_18</td>\n",
       "      <td>-2.271710</td>\n",
       "      <td>-2.075872</td>\n",
       "      <td>0.232540</td>\n",
       "      <td>0.345443</td>\n",
       "      <td>0.221173</td>\n",
       "    </tr>\n",
       "    <tr>\n",
       "      <th>5</th>\n",
       "      <td>slope_16</td>\n",
       "      <td>-1.700429</td>\n",
       "      <td>-1.894659</td>\n",
       "      <td>0.303630</td>\n",
       "      <td>0.289944</td>\n",
       "      <td>0.214034</td>\n",
       "    </tr>\n",
       "    <tr>\n",
       "      <th>6</th>\n",
       "      <td>slope_27</td>\n",
       "      <td>-1.918187</td>\n",
       "      <td>-2.129610</td>\n",
       "      <td>0.362621</td>\n",
       "      <td>0.300637</td>\n",
       "      <td>0.201463</td>\n",
       "    </tr>\n",
       "    <tr>\n",
       "      <th>7</th>\n",
       "      <td>slope_22</td>\n",
       "      <td>-2.410077</td>\n",
       "      <td>-2.568012</td>\n",
       "      <td>0.260068</td>\n",
       "      <td>0.239119</td>\n",
       "      <td>0.199848</td>\n",
       "    </tr>\n",
       "    <tr>\n",
       "      <th>8</th>\n",
       "      <td>slope_26</td>\n",
       "      <td>-1.951358</td>\n",
       "      <td>-2.187430</td>\n",
       "      <td>0.426593</td>\n",
       "      <td>0.311950</td>\n",
       "      <td>0.199539</td>\n",
       "    </tr>\n",
       "    <tr>\n",
       "      <th>9</th>\n",
       "      <td>slope_6</td>\n",
       "      <td>-1.783718</td>\n",
       "      <td>-1.674956</td>\n",
       "      <td>0.209041</td>\n",
       "      <td>0.202400</td>\n",
       "      <td>0.139718</td>\n",
       "    </tr>\n",
       "  </tbody>\n",
       "</table>\n",
       "</div>"
      ],
      "text/plain": [
       "      slope    mean_0    mean_1   stdev_0   stdev_1   fishers\n",
       "0   slope_9 -1.880712 -1.518439  0.283776  0.242120  0.943158\n",
       "1  slope_17 -2.435476 -1.967143  0.374610  0.572371  0.468725\n",
       "2  slope_10 -1.839212 -1.479329  0.478302  0.377668  0.348718\n",
       "3   slope_3 -0.865893 -1.020657  0.187331  0.187557  0.340856\n",
       "4  slope_18 -2.271710 -2.075872  0.232540  0.345443  0.221173\n",
       "5  slope_16 -1.700429 -1.894659  0.303630  0.289944  0.214034\n",
       "6  slope_27 -1.918187 -2.129610  0.362621  0.300637  0.201463\n",
       "7  slope_22 -2.410077 -2.568012  0.260068  0.239119  0.199848\n",
       "8  slope_26 -1.951358 -2.187430  0.426593  0.311950  0.199539\n",
       "9   slope_6 -1.783718 -1.674956  0.209041  0.202400  0.139718"
      ]
     },
     "execution_count": 171,
     "metadata": {},
     "output_type": "execute_result"
    }
   ],
   "source": [
    "dwt4_summary['fishers'] = (dwt4_summary['mean_1'] - dwt4_summary['mean_0'])**2 / (dwt4_summary['stdev_1']**2 + dwt4_summary['stdev_0']**2) #calculate Fisher's criterion for each window\n",
    "dwt4_summary = dwt4_summary.sort_values(by='fishers', ascending=False)\n",
    "\n",
    "dwt4_summary.reset_index(inplace=True)\n",
    "dwt4_summary.head(n=10) #windows with ten highest Fisher's criterion values"
   ]
  },
  {
   "cell_type": "code",
   "execution_count": 172,
   "metadata": {},
   "outputs": [
    {
     "data": {
      "text/plain": [
       "['slope_9', 'slope_17', 'slope_10', 'slope_3', 'slope_18']"
      ]
     },
     "execution_count": 172,
     "metadata": {},
     "output_type": "execute_result"
    }
   ],
   "source": [
    "five_windows = dwt4_summary.head(n=5)['slope'].to_list() #windows with 5 highest Fisher's criterion values\n",
    "five_windows"
   ]
  },
  {
   "cell_type": "code",
   "execution_count": 173,
   "metadata": {},
   "outputs": [
    {
     "data": {
      "text/html": [
       "<div>\n",
       "<style scoped>\n",
       "    .dataframe tbody tr th:only-of-type {\n",
       "        vertical-align: middle;\n",
       "    }\n",
       "\n",
       "    .dataframe tbody tr th {\n",
       "        vertical-align: top;\n",
       "    }\n",
       "\n",
       "    .dataframe thead th {\n",
       "        text-align: right;\n",
       "    }\n",
       "</style>\n",
       "<table border=\"1\" class=\"dataframe\">\n",
       "  <thead>\n",
       "    <tr style=\"text-align: right;\">\n",
       "      <th></th>\n",
       "      <th>slope_9</th>\n",
       "      <th>slope_17</th>\n",
       "      <th>slope_10</th>\n",
       "      <th>slope_3</th>\n",
       "      <th>slope_18</th>\n",
       "      <th>state</th>\n",
       "    </tr>\n",
       "  </thead>\n",
       "  <tbody>\n",
       "    <tr>\n",
       "      <th>0</th>\n",
       "      <td>-1.374826</td>\n",
       "      <td>-2.518293</td>\n",
       "      <td>-1.101176</td>\n",
       "      <td>-0.968635</td>\n",
       "      <td>-2.663364</td>\n",
       "      <td>1</td>\n",
       "    </tr>\n",
       "    <tr>\n",
       "      <th>1</th>\n",
       "      <td>-1.381471</td>\n",
       "      <td>-2.239803</td>\n",
       "      <td>-0.835200</td>\n",
       "      <td>-1.182851</td>\n",
       "      <td>-2.181334</td>\n",
       "      <td>1</td>\n",
       "    </tr>\n",
       "    <tr>\n",
       "      <th>2</th>\n",
       "      <td>-1.764480</td>\n",
       "      <td>-1.346488</td>\n",
       "      <td>-1.673390</td>\n",
       "      <td>-1.044545</td>\n",
       "      <td>-1.373689</td>\n",
       "      <td>1</td>\n",
       "    </tr>\n",
       "    <tr>\n",
       "      <th>3</th>\n",
       "      <td>-1.316122</td>\n",
       "      <td>-2.524658</td>\n",
       "      <td>-0.873419</td>\n",
       "      <td>-1.074442</td>\n",
       "      <td>-2.283557</td>\n",
       "      <td>1</td>\n",
       "    </tr>\n",
       "    <tr>\n",
       "      <th>4</th>\n",
       "      <td>-1.590032</td>\n",
       "      <td>-2.356540</td>\n",
       "      <td>-1.582542</td>\n",
       "      <td>-1.065824</td>\n",
       "      <td>-2.259306</td>\n",
       "      <td>1</td>\n",
       "    </tr>\n",
       "  </tbody>\n",
       "</table>\n",
       "</div>"
      ],
      "text/plain": [
       "    slope_9  slope_17  slope_10   slope_3  slope_18  state\n",
       "0 -1.374826 -2.518293 -1.101176 -0.968635 -2.663364      1\n",
       "1 -1.381471 -2.239803 -0.835200 -1.182851 -2.181334      1\n",
       "2 -1.764480 -1.346488 -1.673390 -1.044545 -1.373689      1\n",
       "3 -1.316122 -2.524658 -0.873419 -1.074442 -2.283557      1\n",
       "4 -1.590032 -2.356540 -1.582542 -1.065824 -2.259306      1"
      ]
     },
     "execution_count": 173,
     "metadata": {},
     "output_type": "execute_result"
    }
   ],
   "source": [
    "five_windows.append('state') #add state column\n",
    "dwt4_five = dwt4[five_windows] #subset original dataframe with five windows with highest Fisher's criterion values\n",
    "dwt4_five.head()"
   ]
  },
  {
   "cell_type": "code",
   "execution_count": 174,
   "metadata": {},
   "outputs": [
    {
     "name": "stdout",
     "output_type": "stream",
     "text": [
      "Stored 'dwt4_five' (DataFrame)\n"
     ]
    },
    {
     "name": "stderr",
     "output_type": "stream",
     "text": [
      "UsageError: Unknown variable '#store'\n"
     ]
    }
   ],
   "source": [
    "%store dwt4_five #store dataframe"
   ]
  },
  {
   "attachments": {},
   "cell_type": "markdown",
   "metadata": {},
   "source": [
    "### 3b. Fisher's criterion, dwt8"
   ]
  },
  {
   "cell_type": "code",
   "execution_count": 175,
   "metadata": {},
   "outputs": [
    {
     "data": {
      "text/html": [
       "<div>\n",
       "<style scoped>\n",
       "    .dataframe tbody tr th:only-of-type {\n",
       "        vertical-align: middle;\n",
       "    }\n",
       "\n",
       "    .dataframe tbody tr th {\n",
       "        vertical-align: top;\n",
       "    }\n",
       "\n",
       "    .dataframe thead th {\n",
       "        text-align: right;\n",
       "    }\n",
       "</style>\n",
       "<table border=\"1\" class=\"dataframe\">\n",
       "  <thead>\n",
       "    <tr style=\"text-align: right;\">\n",
       "      <th></th>\n",
       "      <th>slope_6</th>\n",
       "      <th>slope_29</th>\n",
       "      <th>slope_4</th>\n",
       "      <th>slope_11</th>\n",
       "      <th>slope_28</th>\n",
       "      <th>state</th>\n",
       "    </tr>\n",
       "  </thead>\n",
       "  <tbody>\n",
       "    <tr>\n",
       "      <th>0</th>\n",
       "      <td>-2.664095</td>\n",
       "      <td>-2.344442</td>\n",
       "      <td>-2.322088</td>\n",
       "      <td>-2.428556</td>\n",
       "      <td>-2.701947</td>\n",
       "      <td>1</td>\n",
       "    </tr>\n",
       "    <tr>\n",
       "      <th>1</th>\n",
       "      <td>-2.848399</td>\n",
       "      <td>-2.603805</td>\n",
       "      <td>-2.477289</td>\n",
       "      <td>-2.089429</td>\n",
       "      <td>-2.744103</td>\n",
       "      <td>1</td>\n",
       "    </tr>\n",
       "    <tr>\n",
       "      <th>2</th>\n",
       "      <td>-2.738331</td>\n",
       "      <td>-2.401006</td>\n",
       "      <td>-2.373840</td>\n",
       "      <td>-1.990729</td>\n",
       "      <td>-2.614736</td>\n",
       "      <td>1</td>\n",
       "    </tr>\n",
       "    <tr>\n",
       "      <th>3</th>\n",
       "      <td>-2.718791</td>\n",
       "      <td>-2.421083</td>\n",
       "      <td>-2.333251</td>\n",
       "      <td>-1.712213</td>\n",
       "      <td>-2.682061</td>\n",
       "      <td>1</td>\n",
       "    </tr>\n",
       "    <tr>\n",
       "      <th>4</th>\n",
       "      <td>-2.749954</td>\n",
       "      <td>-2.458969</td>\n",
       "      <td>-2.245684</td>\n",
       "      <td>-2.332299</td>\n",
       "      <td>-2.854078</td>\n",
       "      <td>1</td>\n",
       "    </tr>\n",
       "  </tbody>\n",
       "</table>\n",
       "</div>"
      ],
      "text/plain": [
       "    slope_6  slope_29   slope_4  slope_11  slope_28  state\n",
       "0 -2.664095 -2.344442 -2.322088 -2.428556 -2.701947      1\n",
       "1 -2.848399 -2.603805 -2.477289 -2.089429 -2.744103      1\n",
       "2 -2.738331 -2.401006 -2.373840 -1.990729 -2.614736      1\n",
       "3 -2.718791 -2.421083 -2.333251 -1.712213 -2.682061      1\n",
       "4 -2.749954 -2.458969 -2.245684 -2.332299 -2.854078      1"
      ]
     },
     "execution_count": 175,
     "metadata": {},
     "output_type": "execute_result"
    }
   ],
   "source": [
    "dwt8_long = pd.melt(dwt8, id_vars=['state'], value_vars=col_names)\n",
    "\n",
    "dwt8_mean = dwt8_long.groupby(['state', 'variable'], as_index=False).mean() #mean for each window\n",
    "dwt8_stdev = dwt8_long.groupby(['state', 'variable'], as_index=False).std() #stdev for each window\n",
    "\n",
    "dwt8_summary = pd.merge(dwt8_mean, dwt8_stdev, how='inner', on=['state', 'variable']) #join mean and stdev\n",
    "dwt8_summary.columns = ['state', 'slope', 'mean', 'stdev'] #rename columns\n",
    "\n",
    "dwt8_summary = pd.pivot(dwt8_summary, columns='state', index='slope', values=['mean', 'stdev']) #pivot wider on state\n",
    "dwt8_summary.columns = ['mean_0', 'mean_1', 'stdev_0', 'stdev_1'] #0 for controls, 1 for cases\n",
    "\n",
    "dwt8_summary['fishers'] = (dwt8_summary['mean_1'] - dwt8_summary['mean_0'])**2 / (dwt8_summary['stdev_1']**2 + dwt8_summary['stdev_0']**2) #calculate Fisher's criterion for each window\n",
    "dwt8_summary = dwt8_summary.sort_values(by='fishers', ascending=False)\n",
    "\n",
    "dwt8_summary.reset_index(inplace=True)\n",
    "five_windows = dwt8_summary.head(n=5)['slope'].to_list() #windows with 5 highest Fisher's criterion values\n",
    "\n",
    "five_windows.append('state') #add state column\n",
    "dwt8_five = dwt8[five_windows] #subset original dataframe with five windows with highest Fisher's criterion values\n",
    "dwt8_five.head()\n"
   ]
  },
  {
   "cell_type": "code",
   "execution_count": 176,
   "metadata": {},
   "outputs": [
    {
     "name": "stdout",
     "output_type": "stream",
     "text": [
      "Stored 'dwt8_five' (DataFrame)\n"
     ]
    }
   ],
   "source": [
    "%store dwt8_five"
   ]
  },
  {
   "attachments": {},
   "cell_type": "markdown",
   "metadata": {},
   "source": [
    "### 3c. Fisher's criterion, wp4"
   ]
  },
  {
   "cell_type": "code",
   "execution_count": 177,
   "metadata": {},
   "outputs": [
    {
     "data": {
      "text/html": [
       "<div>\n",
       "<style scoped>\n",
       "    .dataframe tbody tr th:only-of-type {\n",
       "        vertical-align: middle;\n",
       "    }\n",
       "\n",
       "    .dataframe tbody tr th {\n",
       "        vertical-align: top;\n",
       "    }\n",
       "\n",
       "    .dataframe thead th {\n",
       "        text-align: right;\n",
       "    }\n",
       "</style>\n",
       "<table border=\"1\" class=\"dataframe\">\n",
       "  <thead>\n",
       "    <tr style=\"text-align: right;\">\n",
       "      <th></th>\n",
       "      <th>slope_17</th>\n",
       "      <th>slope_18</th>\n",
       "      <th>slope_10</th>\n",
       "      <th>slope_9</th>\n",
       "      <th>slope_8</th>\n",
       "      <th>state</th>\n",
       "    </tr>\n",
       "  </thead>\n",
       "  <tbody>\n",
       "    <tr>\n",
       "      <th>0</th>\n",
       "      <td>-1.533854</td>\n",
       "      <td>-1.657637</td>\n",
       "      <td>-0.491656</td>\n",
       "      <td>-0.924730</td>\n",
       "      <td>-1.003100</td>\n",
       "      <td>1</td>\n",
       "    </tr>\n",
       "    <tr>\n",
       "      <th>1</th>\n",
       "      <td>-1.197222</td>\n",
       "      <td>-1.186491</td>\n",
       "      <td>-0.348145</td>\n",
       "      <td>-0.820557</td>\n",
       "      <td>-1.093975</td>\n",
       "      <td>1</td>\n",
       "    </tr>\n",
       "    <tr>\n",
       "      <th>2</th>\n",
       "      <td>-0.480973</td>\n",
       "      <td>-0.577550</td>\n",
       "      <td>-0.899865</td>\n",
       "      <td>-1.336315</td>\n",
       "      <td>-1.401278</td>\n",
       "      <td>1</td>\n",
       "    </tr>\n",
       "    <tr>\n",
       "      <th>3</th>\n",
       "      <td>-1.458766</td>\n",
       "      <td>-1.291176</td>\n",
       "      <td>-0.354214</td>\n",
       "      <td>-1.113498</td>\n",
       "      <td>-1.109838</td>\n",
       "      <td>1</td>\n",
       "    </tr>\n",
       "    <tr>\n",
       "      <th>4</th>\n",
       "      <td>-1.288669</td>\n",
       "      <td>-1.234476</td>\n",
       "      <td>-0.789974</td>\n",
       "      <td>-1.281247</td>\n",
       "      <td>-1.428105</td>\n",
       "      <td>1</td>\n",
       "    </tr>\n",
       "  </tbody>\n",
       "</table>\n",
       "</div>"
      ],
      "text/plain": [
       "   slope_17  slope_18  slope_10   slope_9   slope_8  state\n",
       "0 -1.533854 -1.657637 -0.491656 -0.924730 -1.003100      1\n",
       "1 -1.197222 -1.186491 -0.348145 -0.820557 -1.093975      1\n",
       "2 -0.480973 -0.577550 -0.899865 -1.336315 -1.401278      1\n",
       "3 -1.458766 -1.291176 -0.354214 -1.113498 -1.109838      1\n",
       "4 -1.288669 -1.234476 -0.789974 -1.281247 -1.428105      1"
      ]
     },
     "execution_count": 177,
     "metadata": {},
     "output_type": "execute_result"
    }
   ],
   "source": [
    "wp4_long = pd.melt(wp4, id_vars=['state'], value_vars=col_names)\n",
    "\n",
    "wp4_mean = wp4_long.groupby(['state', 'variable'], as_index=False).mean() #mean for each window\n",
    "wp4_stdev = wp4_long.groupby(['state', 'variable'], as_index=False).std() #stdev for each window\n",
    "\n",
    "wp4_summary = pd.merge(wp4_mean, wp4_stdev, how='inner', on=['state', 'variable']) #join mean and stdev\n",
    "wp4_summary.columns = ['state', 'slope', 'mean', 'stdev'] #rename columns\n",
    "\n",
    "wp4_summary = pd.pivot(wp4_summary, columns='state', index='slope', values=['mean', 'stdev']) #pivot wider on state\n",
    "wp4_summary.columns = ['mean_0', 'mean_1', 'stdev_0', 'stdev_1'] #0 for controls, 1 for cases\n",
    "\n",
    "wp4_summary['fishers'] = (wp4_summary['mean_1'] - wp4_summary['mean_0'])**2 / (wp4_summary['stdev_1']**2 + wp4_summary['stdev_0']**2) #calculate Fisher's criterion for each window\n",
    "wp4_summary = wp4_summary.sort_values(by='fishers', ascending=False)\n",
    "\n",
    "wp4_summary.reset_index(inplace=True)\n",
    "five_windows = wp4_summary.head(n=5)['slope'].to_list() #windows with 5 highest Fisher's criterion values\n",
    "\n",
    "five_windows.append('state') #add state column\n",
    "wp4_five = wp4[five_windows] #subset original dataframe with five windows with highest Fisher's criterion values\n",
    "wp4_five.head()"
   ]
  },
  {
   "cell_type": "code",
   "execution_count": 178,
   "metadata": {},
   "outputs": [
    {
     "name": "stdout",
     "output_type": "stream",
     "text": [
      "Stored 'wp4_five' (DataFrame)\n"
     ]
    }
   ],
   "source": [
    "%store wp4_five"
   ]
  },
  {
   "attachments": {},
   "cell_type": "markdown",
   "metadata": {},
   "source": [
    "### 3d. Fisher's criterion, wp8"
   ]
  },
  {
   "cell_type": "code",
   "execution_count": 179,
   "metadata": {},
   "outputs": [
    {
     "data": {
      "text/html": [
       "<div>\n",
       "<style scoped>\n",
       "    .dataframe tbody tr th:only-of-type {\n",
       "        vertical-align: middle;\n",
       "    }\n",
       "\n",
       "    .dataframe tbody tr th {\n",
       "        vertical-align: top;\n",
       "    }\n",
       "\n",
       "    .dataframe thead th {\n",
       "        text-align: right;\n",
       "    }\n",
       "</style>\n",
       "<table border=\"1\" class=\"dataframe\">\n",
       "  <thead>\n",
       "    <tr style=\"text-align: right;\">\n",
       "      <th></th>\n",
       "      <th>slope_6</th>\n",
       "      <th>slope_27</th>\n",
       "      <th>slope_29</th>\n",
       "      <th>slope_17</th>\n",
       "      <th>slope_25</th>\n",
       "      <th>state</th>\n",
       "    </tr>\n",
       "  </thead>\n",
       "  <tbody>\n",
       "    <tr>\n",
       "      <th>0</th>\n",
       "      <td>-1.787114</td>\n",
       "      <td>-1.857716</td>\n",
       "      <td>-1.443023</td>\n",
       "      <td>-1.771526</td>\n",
       "      <td>-1.781598</td>\n",
       "      <td>1</td>\n",
       "    </tr>\n",
       "    <tr>\n",
       "      <th>1</th>\n",
       "      <td>-1.935820</td>\n",
       "      <td>-1.848338</td>\n",
       "      <td>-1.619408</td>\n",
       "      <td>-1.778519</td>\n",
       "      <td>-1.853294</td>\n",
       "      <td>1</td>\n",
       "    </tr>\n",
       "    <tr>\n",
       "      <th>2</th>\n",
       "      <td>-1.857946</td>\n",
       "      <td>-1.857774</td>\n",
       "      <td>-1.516554</td>\n",
       "      <td>-1.685034</td>\n",
       "      <td>-1.783911</td>\n",
       "      <td>1</td>\n",
       "    </tr>\n",
       "    <tr>\n",
       "      <th>3</th>\n",
       "      <td>-1.834842</td>\n",
       "      <td>-1.861765</td>\n",
       "      <td>-1.478096</td>\n",
       "      <td>-1.663361</td>\n",
       "      <td>-1.813565</td>\n",
       "      <td>1</td>\n",
       "    </tr>\n",
       "    <tr>\n",
       "      <th>4</th>\n",
       "      <td>-1.863696</td>\n",
       "      <td>-1.877981</td>\n",
       "      <td>-1.488567</td>\n",
       "      <td>-1.515916</td>\n",
       "      <td>-1.817573</td>\n",
       "      <td>1</td>\n",
       "    </tr>\n",
       "  </tbody>\n",
       "</table>\n",
       "</div>"
      ],
      "text/plain": [
       "    slope_6  slope_27  slope_29  slope_17  slope_25  state\n",
       "0 -1.787114 -1.857716 -1.443023 -1.771526 -1.781598      1\n",
       "1 -1.935820 -1.848338 -1.619408 -1.778519 -1.853294      1\n",
       "2 -1.857946 -1.857774 -1.516554 -1.685034 -1.783911      1\n",
       "3 -1.834842 -1.861765 -1.478096 -1.663361 -1.813565      1\n",
       "4 -1.863696 -1.877981 -1.488567 -1.515916 -1.817573      1"
      ]
     },
     "execution_count": 179,
     "metadata": {},
     "output_type": "execute_result"
    }
   ],
   "source": [
    "wp8_long = pd.melt(wp8, id_vars=['state'], value_vars=col_names)\n",
    "\n",
    "wp8_mean = wp8_long.groupby(['state', 'variable'], as_index=False).mean() #mean for each window\n",
    "wp8_stdev = wp8_long.groupby(['state', 'variable'], as_index=False).std() #stdev for each window\n",
    "\n",
    "wp8_summary = pd.merge(wp8_mean, wp8_stdev, how='inner', on=['state', 'variable']) #join mean and stdev\n",
    "wp8_summary.columns = ['state', 'slope', 'mean', 'stdev'] #rename columns\n",
    "\n",
    "wp8_summary = pd.pivot(wp8_summary, columns='state', index='slope', values=['mean', 'stdev']) #pivot wider on state\n",
    "wp8_summary.columns = ['mean_0', 'mean_1', 'stdev_0', 'stdev_1'] #0 for controls, 1 for cases\n",
    "\n",
    "wp8_summary['fishers'] = (wp8_summary['mean_1'] - wp8_summary['mean_0'])**2 / (wp8_summary['stdev_1']**2 + wp8_summary['stdev_0']**2) #calculate Fisher's criterion for each window\n",
    "wp8_summary = wp8_summary.sort_values(by='fishers', ascending=False)\n",
    "\n",
    "wp8_summary.reset_index(inplace=True)\n",
    "five_windows = wp8_summary.head(n=5)['slope'].to_list() #windows with 5 highest Fisher's criterion values\n",
    "\n",
    "five_windows.append('state') #add state column\n",
    "wp8_five = wp8[five_windows] #subset original dataframe with five windows with highest Fisher's criterion values\n",
    "wp8_five.head()"
   ]
  },
  {
   "cell_type": "code",
   "execution_count": 180,
   "metadata": {},
   "outputs": [
    {
     "name": "stdout",
     "output_type": "stream",
     "text": [
      "Stored 'wp8_five' (DataFrame)\n"
     ]
    }
   ],
   "source": [
    "%store wp8_five"
   ]
  }
 ],
 "metadata": {
  "kernelspec": {
   "display_name": "Python 3",
   "language": "python",
   "name": "python3"
  },
  "language_info": {
   "codemirror_mode": {
    "name": "ipython",
    "version": 3
   },
   "file_extension": ".py",
   "mimetype": "text/x-python",
   "name": "python",
   "nbconvert_exporter": "python",
   "pygments_lexer": "ipython3",
   "version": "3.9.6"
  },
  "orig_nbformat": 4
 },
 "nbformat": 4,
 "nbformat_minor": 2
}
