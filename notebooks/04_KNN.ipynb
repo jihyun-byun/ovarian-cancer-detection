{
 "cells": [
  {
   "cell_type": "code",
   "execution_count": 2,
   "metadata": {},
   "outputs": [],
   "source": [
    "import pandas as pd\n",
    "import numpy as np\n",
    "import matplotlib.pyplot as plt\n",
    "import seaborn as sns\n",
    "\n",
    "from numpy import mean\n",
    "from sklearn.model_selection import train_test_split, cross_val_score, RepeatedStratifiedKFold, GridSearchCV\n",
    "#from sklearn.externals.six import StringIO  \n",
    "from sklearn.pipeline import make_pipeline\n",
    "from sklearn.metrics import mean_squared_error,confusion_matrix, classification_report\n",
    "from sklearn.preprocessing import StandardScaler\n",
    "\n",
    "from sklearn.neighbors import KNeighborsClassifier\n"
   ]
  },
  {
   "cell_type": "code",
   "execution_count": 3,
   "metadata": {},
   "outputs": [],
   "source": [
    "%store -r wp4\n",
    "wp4 = wp4\n",
    " \n",
    "%store -r wp8\n",
    "wp8 = wp8\n",
    "\n",
    "%store -r dwt4\n",
    "dwt4 = dwt4\n",
    "\n",
    "%store -r dwt8\n",
    "dwt8 = dwt8"
   ]
  },
  {
   "cell_type": "code",
   "execution_count": 4,
   "metadata": {},
   "outputs": [
    {
     "name": "stdout",
     "output_type": "stream",
     "text": [
      "Accuracy:  0.9166666666666666\n",
      "Specificity:  0.8235294117647058\n",
      "Sensitivity:  0.98\n"
     ]
    }
   ],
   "source": [
    "x = dwt8.loc[:, dwt8.columns != 'state'] #features\n",
    "y = dwt8.loc[:, dwt8.columns == 'state'] #supervisor\n",
    "\n",
    "x_train, x_test, y_train, y_test = train_test_split(x, y, train_size=0.67)\n",
    "\n",
    "scaler = StandardScaler()\n",
    "scaler.fit(x_train)\n",
    "x_train = scaler.transform(x_train)\n",
    "x_test = scaler.transform(x_test)\n",
    "\n",
    "knn_model = KNeighborsClassifier()\n",
    "knn_model.fit(x_train, y_train.values.ravel())\n",
    "y_pred = knn_model.predict(x_test)\n",
    "\n",
    "accuracy = classification_report(y_test, y_pred, output_dict=True)['accuracy']\n",
    "specificity = classification_report(y_test, y_pred, output_dict=True)['0']['recall'] #recall of the negative class = specificity\n",
    "sensitivity = classification_report(y_test, y_pred, output_dict=True)['1']['recall'] #recall of the positive class = sensitivity\n",
    "\n",
    "print(\"Accuracy: \", accuracy)\n",
    "print(\"Specificity: \", specificity)\n",
    "print(\"Sensitivity: \", sensitivity)"
   ]
  },
  {
   "cell_type": "markdown",
   "metadata": {},
   "source": [
    "## Grid Search Sampling Function"
   ]
  },
  {
   "cell_type": "code",
   "execution_count": 43,
   "metadata": {},
   "outputs": [
    {
     "name": "stdout",
     "output_type": "stream",
     "text": [
      "              precision    recall  f1-score   support\n",
      "\n",
      "           0       0.81      0.84      0.82        25\n",
      "           1       0.93      0.92      0.92        59\n",
      "\n",
      "    accuracy                           0.89        84\n",
      "   macro avg       0.87      0.88      0.87        84\n",
      "weighted avg       0.89      0.89      0.89        84\n",
      "\n"
     ]
    }
   ],
   "source": [
    "x = dwt8.loc[:, dwt8.columns != 'state'] #features\n",
    "y = dwt8.loc[:, dwt8.columns == 'state'] #supervisor\n",
    "\n",
    "x_train, x_test, y_train, y_test = train_test_split(x, y, train_size=0.67)\n",
    "\n",
    "scaler = StandardScaler()\n",
    "scaler.fit(x_train)\n",
    "x_train = scaler.transform(x_train)\n",
    "x_test = scaler.transform(x_test)\n",
    "\n",
    "knn_model = KNeighborsClassifier()\n",
    "knn_model.fit(x_train, y_train.values.ravel())\n",
    "y_pred = knn_model.predict(x_test)\n",
    "\n",
    "param_grid = {'n_neighbors': [2, 4, 6, 8, 10, 15, 20], \n",
    "              'weights': ['uniform', 'distance'],\n",
    "              'metric': ['euclidean', 'manhattan']} \n",
    "  \n",
    "grid_model = GridSearchCV(knn_model, param_grid, refit = True, verbose = 0)\n",
    "\n",
    "grid_model.fit(x_train, y_train.values.ravel())\n",
    "\n",
    "grid_predictions = grid_model.predict(x_test)\n",
    "print(classification_report(y_test, grid_predictions))"
   ]
  },
  {
   "cell_type": "code",
   "execution_count": 46,
   "metadata": {},
   "outputs": [],
   "source": [
    "def knn_grid_reps(df, n_iter = 1000): #default 1k iterations\n",
    "    df = df\n",
    "    x = df.loc[:, df.columns != 'state'] #features\n",
    "    y = df.loc[:, df.columns == 'state'] #supervisor\n",
    "\n",
    "    eval_metrics = {} #empty dictionary to store metrics\n",
    "\n",
    "    for i in range(n_iter): \n",
    "\n",
    "        x_train, x_test, y_train, y_test = train_test_split(x, y, train_size=0.67)\n",
    "\n",
    "        scaler = StandardScaler()\n",
    "        scaler.fit(x_train)\n",
    "        x_train = scaler.transform(x_train)\n",
    "        x_test = scaler.transform(x_test)\n",
    "\n",
    "        knn_model = KNeighborsClassifier()\n",
    "        knn_model.fit(x_train, y_train.values.ravel())\n",
    "        y_pred = knn_model.predict(x_test)\n",
    "\n",
    "        param_grid = {'n_neighbors': [2, 4, 6, 8, 10, 15, 20], \n",
    "                    'weights': ['uniform', 'distance'],\n",
    "                    'metric': ['euclidean', 'manhattan']} \n",
    "        \n",
    "        grid_model = GridSearchCV(knn_model, param_grid, refit = True, verbose = 0)\n",
    "\n",
    "        grid_model.fit(x_train, y_train.values.ravel())\n",
    "\n",
    "        y_pred = grid_model.predict(x_test)\n",
    "\n",
    "        accuracy = classification_report(y_test, y_pred, output_dict=True)['accuracy']\n",
    "        specificity = classification_report(y_test, y_pred, output_dict=True)['0']['recall'] #recall of the negative class = specificity\n",
    "        sensitivity = classification_report(y_test, y_pred, output_dict=True)['1']['recall'] #recall of the positive class = sensitivity\n",
    "\n",
    "        metrics = [accuracy, specificity, sensitivity] \n",
    "        eval_metrics[i]=list(metrics)\n",
    "\n",
    "    eval_metrics = pd.DataFrame.from_dict(eval_metrics).T \n",
    "    eval_metrics.columns = ['accuracy', 'specificity', 'sensitivity']\n",
    "    eval_metrics.head()\n",
    "\n",
    "    means = eval_metrics.mean(axis=0) #mean of each column\n",
    "    \n",
    "    return means"
   ]
  },
  {
   "cell_type": "markdown",
   "metadata": {},
   "source": [
    "#### Wavelet Packet / Wang, 8-7-02 data (wp8)"
   ]
  },
  {
   "cell_type": "code",
   "execution_count": 49,
   "metadata": {},
   "outputs": [
    {
     "data": {
      "text/plain": [
       "accuracy       0.927131\n",
       "specificity    0.892994\n",
       "sensitivity    0.947623\n",
       "dtype: float64"
      ]
     },
     "execution_count": 49,
     "metadata": {},
     "output_type": "execute_result"
    }
   ],
   "source": [
    "knn_grid_reps(df = wp8, n_iter = 1000)"
   ]
  },
  {
   "cell_type": "markdown",
   "metadata": {},
   "source": [
    "#### Discrete Wavelet Transform, 8-7-02 data (dwt8)"
   ]
  },
  {
   "cell_type": "code",
   "execution_count": 50,
   "metadata": {},
   "outputs": [
    {
     "data": {
      "text/plain": [
       "accuracy       0.900774\n",
       "specificity    0.879739\n",
       "sensitivity    0.914451\n",
       "dtype: float64"
      ]
     },
     "execution_count": 50,
     "metadata": {},
     "output_type": "execute_result"
    }
   ],
   "source": [
    "knn_grid_reps(df = dwt8, n_iter=1000)"
   ]
  }
 ],
 "metadata": {
  "kernelspec": {
   "display_name": "Python 3",
   "language": "python",
   "name": "python3"
  },
  "language_info": {
   "codemirror_mode": {
    "name": "ipython",
    "version": 3
   },
   "file_extension": ".py",
   "mimetype": "text/x-python",
   "name": "python",
   "nbconvert_exporter": "python",
   "pygments_lexer": "ipython3",
   "version": "3.9.6"
  },
  "orig_nbformat": 4
 },
 "nbformat": 4,
 "nbformat_minor": 2
}
