{
 "cells": [
  {
   "cell_type": "code",
   "execution_count": 4,
   "metadata": {},
   "outputs": [],
   "source": [
    "import pandas as pd\n",
    "import numpy as np\n",
    "import matplotlib.pyplot as plt\n",
    "import seaborn as sns\n",
    "\n",
    "from numpy import mean\n",
    "from sklearn.model_selection import train_test_split, cross_val_score, RepeatedStratifiedKFold, GridSearchCV\n",
    "#from sklearn.externals.six import StringIO  \n",
    "from sklearn.tree import DecisionTreeRegressor, DecisionTreeClassifier, export_graphviz\n",
    "from sklearn.ensemble import BaggingClassifier, RandomForestClassifier, BaggingRegressor, RandomForestRegressor, GradientBoostingRegressor\n",
    "from sklearn.metrics import mean_squared_error,confusion_matrix, classification_report\n",
    "from sklearn.preprocessing import StandardScaler\n"
   ]
  },
  {
   "cell_type": "code",
   "execution_count": 5,
   "metadata": {},
   "outputs": [],
   "source": [
    "%store -r wp4\n",
    "wp4 = wp4\n",
    " \n",
    "%store -r wp8\n",
    "wp8 = wp8\n",
    "\n",
    "%store -r dwt4\n",
    "dwt4 = dwt4\n",
    "\n",
    "%store -r dwt8\n",
    "dwt8 = dwt8"
   ]
  },
  {
   "attachments": {},
   "cell_type": "markdown",
   "metadata": {},
   "source": [
    "## Part A: Repeated Sampling Function"
   ]
  },
  {
   "cell_type": "code",
   "execution_count": 2,
   "metadata": {},
   "outputs": [],
   "source": [
    "def tree_rep_samples(df, n_iter = 1000):\n",
    "    df = df\n",
    "    x = df.loc[:, df.columns != 'state'] #features\n",
    "    y = df.loc[:, df.columns == 'state'] #supervisor\n",
    "\n",
    "    eval_metrics = {} #empty dictionary to store metrics\n",
    "\n",
    "    for i in range(n_iter): \n",
    "\n",
    "        x_train, x_test, y_train, y_test = train_test_split(x, y, train_size=0.67)\n",
    "        \n",
    "        tree_model = RandomForestClassifier(class_weight='balanced')\n",
    "        tree_model.fit(x_train, y_train.values.ravel())\n",
    "        y_pred = tree_model.predict(x_test)\n",
    "\n",
    "        acc = classification_report(y_test, y_pred, output_dict=True)['accuracy']\n",
    "        spec = classification_report(y_test, y_pred, output_dict=True)['1']['precision'] #specificity\n",
    "        sens = classification_report(y_test, y_pred, output_dict=True)['1']['recall'] #sensitivity\n",
    "\n",
    "        metrics = [acc, spec, sens] #store values in list\n",
    "        eval_metrics[i]=list(metrics) #store list in dictionary\n",
    "\n",
    "    eval_metrics = pd.DataFrame.from_dict(eval_metrics).T \n",
    "    eval_metrics.columns = ['accuracy', 'specificity', 'sensitivity']\n",
    "    eval_metrics.head()\n",
    "\n",
    "    means = eval_metrics.mean(axis=0) #mean of each column\n",
    "    \n",
    "    return means"
   ]
  },
  {
   "attachments": {},
   "cell_type": "markdown",
   "metadata": {},
   "source": [
    "#### Wavelet Packet / Wang, 8-7-02 data (wp8)"
   ]
  },
  {
   "cell_type": "code",
   "execution_count": 6,
   "metadata": {},
   "outputs": [
    {
     "data": {
      "text/plain": [
       "accuracy       0.935226\n",
       "specificity    0.924784\n",
       "sensitivity    0.978372\n",
       "dtype: float64"
      ]
     },
     "execution_count": 6,
     "metadata": {},
     "output_type": "execute_result"
    }
   ],
   "source": [
    "tree_rep_samples(wp8, n_iter = 1000)"
   ]
  },
  {
   "attachments": {},
   "cell_type": "markdown",
   "metadata": {},
   "source": [
    "#### Discrete Wavelet Transform, 8-7-02 data (dwt8)"
   ]
  },
  {
   "cell_type": "code",
   "execution_count": 7,
   "metadata": {},
   "outputs": [
    {
     "data": {
      "text/plain": [
       "accuracy       0.915655\n",
       "specificity    0.907229\n",
       "sensitivity    0.968078\n",
       "dtype: float64"
      ]
     },
     "execution_count": 7,
     "metadata": {},
     "output_type": "execute_result"
    }
   ],
   "source": [
    "tree_rep_samples(dwt8, n_iter = 1000)"
   ]
  }
 ],
 "metadata": {
  "kernelspec": {
   "display_name": "Python 3",
   "language": "python",
   "name": "python3"
  },
  "language_info": {
   "codemirror_mode": {
    "name": "ipython",
    "version": 3
   },
   "file_extension": ".py",
   "mimetype": "text/x-python",
   "name": "python",
   "nbconvert_exporter": "python",
   "pygments_lexer": "ipython3",
   "version": "3.9.6"
  },
  "orig_nbformat": 4
 },
 "nbformat": 4,
 "nbformat_minor": 2
}
