{
 "cells": [
  {
   "cell_type": "code",
   "execution_count": 2,
   "metadata": {},
   "outputs": [],
   "source": [
    "import numpy as np\n",
    "import matplotlib.pyplot as plt\n",
    "import pandas as pd\n",
    "import seaborn as sns\n",
    "\n",
    "from sklearn.preprocessing import StandardScaler\n",
    "from sklearn.pipeline import Pipeline\n",
    "from sklearn.linear_model import LogisticRegression\n",
    "from sklearn.model_selection import train_test_split, RepeatedStratifiedKFold, GridSearchCV\n",
    "from sklearn.metrics import accuracy_score, confusion_matrix, classification_report, ConfusionMatrixDisplay, mean_squared_error\n",
    "\n",
    "import warnings"
   ]
  },
  {
   "attachments": {},
   "cell_type": "markdown",
   "metadata": {},
   "source": [
    "### Sampling iterations function"
   ]
  },
  {
   "cell_type": "code",
   "execution_count": 3,
   "metadata": {},
   "outputs": [],
   "source": [
    "def log_reg_rep_samples(df, n_iter = 1000):\n",
    "    df = df\n",
    "    x = df.loc[:, df.columns != 'state'] #features\n",
    "    y = df.loc[:, df.columns == 'state'] #supervisor\n",
    "\n",
    "    eval_metrics = {} #empty dictionary to store metrics\n",
    "\n",
    "    for i in range(n_iter): \n",
    "\n",
    "        x_train, x_test, y_train, y_test = train_test_split(x, y, train_size=0.67)\n",
    "\n",
    "        scaler = StandardScaler()\n",
    "        scaler.fit(x_train)\n",
    "        x_train = scaler.transform(x_train)\n",
    "        x_test = scaler.transform(x_test)\n",
    "\n",
    "        log_model = LogisticRegression(class_weight='balanced')\n",
    "        log_model.fit(x_train, y_train.values.ravel())\n",
    "        y_pred = log_model.predict(x_test)\n",
    "\n",
    "        acc = classification_report(y_test, y_pred, output_dict=True)['accuracy']\n",
    "        spec = classification_report(y_test, y_pred, output_dict=True)['0']['precision'] #specificity\n",
    "        sens = classification_report(y_test, y_pred, output_dict=True)['0']['recall'] #sensitivity\n",
    "\n",
    "        metrics = [acc, spec, sens] #store values in list\n",
    "        eval_metrics[i]=list(metrics) #store list in dictionary\n",
    "\n",
    "    eval_metrics = pd.DataFrame.from_dict(eval_metrics).T \n",
    "    eval_metrics.columns = ['accuracy', 'specificity', 'sensitivity']\n",
    "    eval_metrics.head()\n",
    "\n",
    "    means = eval_metrics.mean(axis=0) #mean of each column\n",
    "    \n",
    "    return means\n"
   ]
  },
  {
   "attachments": {},
   "cell_type": "markdown",
   "metadata": {},
   "source": [
    "Wavelet Packet / Wang, 4-3-02 data (wp4)"
   ]
  },
  {
   "cell_type": "code",
   "execution_count": 4,
   "metadata": {},
   "outputs": [
    {
     "data": {
      "text/plain": [
       "accuracy       0.861167\n",
       "specificity    0.872762\n",
       "sensitivity    0.850099\n",
       "dtype: float64"
      ]
     },
     "execution_count": 4,
     "metadata": {},
     "output_type": "execute_result"
    }
   ],
   "source": [
    "%store -r wp4 \n",
    "log_reg_rep_samples(df = wp4, n_iter = 10000)"
   ]
  },
  {
   "attachments": {},
   "cell_type": "markdown",
   "metadata": {},
   "source": [
    "\n",
    "Wavelet Packet / Wang, 8-7-02 data (wp8)"
   ]
  },
  {
   "cell_type": "code",
   "execution_count": 5,
   "metadata": {},
   "outputs": [
    {
     "data": {
      "text/plain": [
       "accuracy       0.960633\n",
       "specificity    0.937398\n",
       "sensitivity    0.955830\n",
       "dtype: float64"
      ]
     },
     "execution_count": 5,
     "metadata": {},
     "output_type": "execute_result"
    }
   ],
   "source": [
    "%store -r wp8 \n",
    "log_reg_rep_samples(df = wp8, n_iter = 10000)"
   ]
  },
  {
   "attachments": {},
   "cell_type": "markdown",
   "metadata": {},
   "source": [
    "Discrete Wavelet Transform, 4-3-02 data (dwt4)"
   ]
  },
  {
   "cell_type": "code",
   "execution_count": 6,
   "metadata": {},
   "outputs": [
    {
     "data": {
      "text/plain": [
       "accuracy       0.880250\n",
       "specificity    0.886321\n",
       "sensitivity    0.875227\n",
       "dtype: float64"
      ]
     },
     "execution_count": 6,
     "metadata": {},
     "output_type": "execute_result"
    }
   ],
   "source": [
    "%store -r dwt4\n",
    "log_reg_rep_samples(df = dwt4, n_iter = 10000)"
   ]
  },
  {
   "attachments": {},
   "cell_type": "markdown",
   "metadata": {},
   "source": [
    "Discrete Wavelet Transform, 8-7-02 data (dwt4)"
   ]
  },
  {
   "cell_type": "code",
   "execution_count": 7,
   "metadata": {},
   "outputs": [
    {
     "data": {
      "text/plain": [
       "accuracy       0.955255\n",
       "specificity    0.925950\n",
       "sensitivity    0.953467\n",
       "dtype: float64"
      ]
     },
     "execution_count": 7,
     "metadata": {},
     "output_type": "execute_result"
    }
   ],
   "source": [
    "%store -r dwt8\n",
    "log_reg_rep_samples(df = dwt8, n_iter = 10000)"
   ]
  }
 ],
 "metadata": {
  "kernelspec": {
   "display_name": "Python 3",
   "language": "python",
   "name": "python3"
  },
  "language_info": {
   "codemirror_mode": {
    "name": "ipython",
    "version": 3
   },
   "file_extension": ".py",
   "mimetype": "text/x-python",
   "name": "python",
   "nbconvert_exporter": "python",
   "pygments_lexer": "ipython3",
   "version": "3.9.6"
  },
  "orig_nbformat": 4
 },
 "nbformat": 4,
 "nbformat_minor": 2
}
